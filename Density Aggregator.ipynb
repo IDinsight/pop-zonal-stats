{
 "cells": [
  {
   "attachments": {},
   "cell_type": "markdown",
   "metadata": {},
   "source": [
    "# Summarize population density maps (`.tif`) by shapefiles (`.shp`)\n",
    "\n",
    "### What does this do\n",
    "\n",
    "This notebook allows you to:\n",
    "1. Load a `.tif` population density file and a `.shp` shapefile\n",
    "\n",
    "2. Sum the values of the pixels in the density map inside each given shape, resulting in a table of shape attributes (e.g. admin level names) and the respective population\n",
    "\n",
    "3. Save the resulting table in a `.csv` file\n",
    "\n",
    "### How to run\n",
    "1. Install Python and Jupyter (recommended distribution: the latest `miniconda`)\n",
    "\n",
    "2. Use `pip` to install the following packages if not already installed:\n",
    "    - `rasterstats`\n",
    "    \n",
    "    - `rioxarray`\n",
    "\n",
    "    - `pandas`\n",
    "\n",
    "    - `geopandas`\n",
    "    \n",
    "    - `matplotlib`\n",
    "\n",
    "\n",
    "3. Download your chosen population density map and shapefile and set the data paths here correctly\n",
    "\n",
    "4. Run the `Setup` and `Functions` section and the relevant country and/or copy a country example cell and modify it to match your density map and shapefile."
   ]
  },
  {
   "attachments": {},
   "cell_type": "markdown",
   "metadata": {},
   "source": [
    "# Setup"
   ]
  },
  {
   "cell_type": "code",
   "execution_count": 1,
   "metadata": {},
   "outputs": [],
   "source": [
    "from pathlib import Path\n",
    "import os\n",
    "\n",
    "import rioxarray as rxr\n",
    "import pandas as pd\n",
    "import geopandas as gpd\n",
    "import matplotlib.pyplot as plt"
   ]
  },
  {
   "cell_type": "code",
   "execution_count": 2,
   "metadata": {},
   "outputs": [],
   "source": [
    "from rasterstats import zonal_stats\n",
    "\n",
    "## NECESSARY FUNCTION TO EXTEND `zonal_stats` TO WORK WITH XARRAYS\n",
    "def zonal_stats_extended(gdf, xds, prefix=None, stats=\"sum\", output_type=\"dataframe\"):\n",
    "    \"\"\"\n",
    "    Extends rasterstarts' zonal_stats to easily input xarrays and output a Pandas DataFrame.\n",
    "\n",
    "    Default operation is \"sum\".\n",
    "\n",
    "    \"\"\"\n",
    "    raster = xds.to_numpy()[0]\n",
    "    affine = xds.rio.transform()\n",
    "    nodata_value = xds.rio.nodata\n",
    "\n",
    "    zs = zonal_stats(\n",
    "        gdf,\n",
    "        raster,\n",
    "        affine=affine,\n",
    "        nodata=nodata_value,\n",
    "        stats=stats,\n",
    "        prefix=prefix,\n",
    "    )\n",
    "\n",
    "    if output_type == \"dataframe\":\n",
    "        return pd.DataFrame(zs)\n",
    "    else:\n",
    "        return zs"
   ]
  },
  {
   "cell_type": "code",
   "execution_count": 17,
   "metadata": {},
   "outputs": [],
   "source": [
    "# Set paths to data folders\n",
    "path = Path.cwd()\n",
    "data_path = path / \"Data\"\n",
    "output_path = path / \"Output_Data\""
   ]
  },
  {
   "cell_type": "code",
   "execution_count": 5,
   "metadata": {},
   "outputs": [
    {
     "name": "stdout",
     "output_type": "stream",
     "text": [
      "c:\\Users\\NOEL\\Dropbox (IDinsight)\\GiveWell\\Program Reach\\Phase 2\\Code\\pop-zonal-stats\n"
     ]
    }
   ],
   "source": [
    "current_directory = os.getcwd()\n",
    "print(current_directory)"
   ]
  },
  {
   "attachments": {},
   "cell_type": "markdown",
   "metadata": {},
   "source": [
    "# Full run"
   ]
  },
  {
   "attachments": {},
   "cell_type": "markdown",
   "metadata": {},
   "source": [
    "## Functions"
   ]
  },
  {
   "cell_type": "code",
   "execution_count": 22,
   "metadata": {},
   "outputs": [],
   "source": [
    "def load_tif(path):\n",
    "    \"\"\"load raster population density data (.tif) with np.nan as nodata value\"\"\"\n",
    "\n",
    "    return rxr.open_rasterio(path, masked=True)"
   ]
  },
  {
   "cell_type": "code",
   "execution_count": 23,
   "metadata": {},
   "outputs": [],
   "source": [
    "def load_and_sum_tif(tif_file_path, gdf, prefix=None, rounding=True):\n",
    "    \"\"\"Load a pop density map from file and create zonal sums using shapes from the given gdf.\"\"\"\n",
    "\n",
    "    xds = load_tif(tif_file_path)\n",
    "\n",
    "    zonal_stats_df = zonal_stats_extended(\n",
    "        gdf=gdf,\n",
    "        xds=xds,\n",
    "        prefix=prefix,\n",
    "        stats=\"sum\"\n",
    "    )\n",
    "\n",
    "    if rounding:\n",
    "        zonal_stats_df = zonal_stats_df.round().fillna(0).astype(int)\n",
    "\n",
    "    return zonal_stats_df"
   ]
  },
  {
   "cell_type": "code",
   "execution_count": 25,
   "metadata": {},
   "outputs": [],
   "source": [
    "def load_and_sum_multiple_tifs(\n",
    "    gdf,\n",
    "    tif_folder_path=None,\n",
    "    tif_file_paths=None, \n",
    "    global_prefix=None, \n",
    "    file_prefix_list=None,\n",
    "    rounding=True, \n",
    "    total_column=True\n",
    "    ):\n",
    "    \"\"\"\n",
    "\n",
    "    Primarily for WorldPop data since multiple files are provided, each for a different age/gender group.\n",
    "    \n",
    "    Load each density map file (either from a given folder or a list of file paths) and \n",
    "    get zonal sums of each based on a GeoDataFrame of shapes. Combine the results into \n",
    "    a single pandas dataframe and add a totals column if required.\n",
    "    \n",
    "    Parameters\n",
    "    ----------\n",
    "    gdf : geopandas.GeoDataFrame\n",
    "        GeoDataFrame with shapes to summarize over.\n",
    "    tif_folder_path : pathlib.Path, optional\n",
    "        Path to folder with tif files to load. If provided, all tif files in the folder will be loaded and the \n",
    "        tif_file_paths parameter will be ignored.\n",
    "    tif_file_paths : list, required if tif_folder_path is None\n",
    "        List of paths to tif files.\n",
    "    global_prefix : str, optional\n",
    "        Prefix to add to all column names, by default None\n",
    "    file_prefix_list : list, optional\n",
    "        List of prefixes to add to each column name, by default None. If provided, must be the same length as the\n",
    "        tif_file_paths list. If not provided, the file name will be used as the prefix.\n",
    "    sum_rounding : bool, optional\n",
    "        Whether to round sum values, by default True\n",
    "    total_column : bool, optional\n",
    "        Add a column with the total sum of all columns, by default True\n",
    "        \n",
    "    Returns\n",
    "    -------\n",
    "    pd.DataFrame\n",
    "    \n",
    "    \"\"\"\n",
    "\n",
    "    if tif_folder_path:\n",
    "        tif_file_paths = list(tif_folder_path.glob(\"*.tif\"))\n",
    "\n",
    "    if not file_prefix_list:\n",
    "        file_prefix_list = [f.stem for f in tif_file_paths]\n",
    "\n",
    "    zonal_stats_df_list = []\n",
    "\n",
    "    for tif_file_path, file_prefix in zip(tif_file_paths, file_prefix_list):\n",
    "        prefix = global_prefix+file_prefix+\"_\"\n",
    "        zonal_stats_df = load_and_sum_tif(tif_file_path, gdf, prefix, rounding)\n",
    "        zonal_stats_df_list.append(zonal_stats_df)\n",
    "\n",
    "    zonal_stats_df_all = pd.concat(zonal_stats_df_list, axis=1)\n",
    "\n",
    "    if total_column:\n",
    "        zonal_stats_df_all[global_prefix+\"sum_total\"] = zonal_stats_df_all.sum(axis=1)\n",
    "\n",
    "    return zonal_stats_df_all"
   ]
  },
  {
   "cell_type": "code",
   "execution_count": 26,
   "metadata": {},
   "outputs": [],
   "source": [
    "def combine_dataframes(\n",
    "    gdf, \n",
    "    df_list, \n",
    "    shape_cols_to_keep, \n",
    "    save_csv, \n",
    "    output_csv_name=\"zonal_sums.csv\"\n",
    "    ):\n",
    "    \"\"\"Combine a list of dataframes with zonal sums with a GeoDataFrame of shapes and save result to file.\"\"\"\n",
    "    \n",
    "    # combine all population dataframes\n",
    "    pops_df = pd.concat(df_list, axis=1)\n",
    "\n",
    "    # Combine with shape data\n",
    "    gdf = gdf[shape_cols_to_keep+[\"geometry\"]]\n",
    "    combined_pops_gdf = pd.concat([gdf, pops_df], axis=1)\n",
    "\n",
    "    # sort by area names\n",
    "    combined_pops_gdf.sort_values(by=shape_cols_to_keep, inplace=True)\n",
    "\n",
    "    ## save\n",
    "    if save_csv:\n",
    "        # save\n",
    "        os.makedirs(output_path, exist_ok=True)\n",
    "        combined_pops_gdf.drop(columns=\"geometry\", axis=1).to_csv(output_path / output_csv_name, index=False)\n",
    "\n",
    "    return combined_pops_gdf"
   ]
  },
  {
   "attachments": {},
   "cell_type": "markdown",
   "metadata": {},
   "source": [
    "For loading the three multiple data sources:"
   ]
  },
  {
   "cell_type": "code",
   "execution_count": 27,
   "metadata": {},
   "outputs": [],
   "source": [
    "def create_combined_zonal_sums_for_all_sources(\n",
    "    gdf,\n",
    "    worldpop_cons_folder_path,\n",
    "    worldpop_uncons_folder_path,\n",
    "    facebook_file_path,\n",
    "    landscan_file_path,\n",
    "    shape_cols_to_keep,\n",
    "    save_csv=True,\n",
    "    output_csv_name=\"zonal_sums.csv\",\n",
    "    ):\n",
    "    \"\"\"Function to make zonal sums for each source and combine them into one table in one go.\"\"\"\n",
    "    \n",
    "    # WorldPop Constrained\n",
    "    worldpop_pops_df = load_and_sum_multiple_tifs(\n",
    "        gdf=gdf,\n",
    "        tif_folder_path=worldpop_cons_folder_path,\n",
    "        global_prefix=\"worldpop_cons_u5_\", \n",
    "        rounding=True, \n",
    "        total_column=True\n",
    "        )\n",
    "    \n",
    "# WorldPop Unconstrained\n",
    "    worldpop_pops_df = load_and_sum_multiple_tifs(\n",
    "        gdf=gdf,\n",
    "        tif_folder_path=worldpop_uncons_folder_path,\n",
    "        global_prefix=\"worldpop_uncons_u5_\", \n",
    "        rounding=True, \n",
    "        total_column=True\n",
    "        )\n",
    "\n",
    "    # Facebook\n",
    "    facebook_pops_df = load_and_sum_tif(\n",
    "        facebook_file_path,\n",
    "        gdf,\n",
    "        prefix=\"facebook_u5_\",\n",
    "        rounding=True\n",
    "    )\n",
    "\n",
    "    # LandScan. Note: TOTAL POPULATION, not under 5s.  \n",
    "    landscan_pops_df = load_and_sum_tif(\n",
    "        landscan_file_path,\n",
    "        gdf,\n",
    "        prefix=\"landscan_TOTAL_\",\n",
    "        rounding=True\n",
    "    )\n",
    "\n",
    "    df_list = [worldpop_pops_df, facebook_pops_df, landscan_pops_df]\n",
    "\n",
    "    combined_pops_gdf = combine_dataframes(\n",
    "        gdf, \n",
    "        df_list, \n",
    "        shape_cols_to_keep, \n",
    "        save_csv, \n",
    "        output_csv_name\n",
    "        )\n",
    "\n",
    "    return combined_pops_gdf"
   ]
  },
  {
   "attachments": {},
   "cell_type": "markdown",
   "metadata": {},
   "source": [
    "## WorldPop/FB/LandScan summaries\n",
    "(Summarising multiple `.tif` density files and combining the results)"
   ]
  },
  {
   "attachments": {},
   "cell_type": "markdown",
   "metadata": {},
   "source": [
    "### 1. Nigeria"
   ]
  },
  {
   "cell_type": "code",
   "execution_count": null,
   "metadata": {},
   "outputs": [],
   "source": [
    "nigeria_adm2_gdf = gpd.read_file(data_path / \"Administrative Boundaries\" / \"nga_adm_osgof_20190417_nigeria\" / \"nga_admbnda_adm2_osgof_20190417.shp\")\n",
    "\n",
    "# plot shapes\n",
    "# guinea_adm2_gdf.plot(color=\"white\", edgecolor=\"gray\", linewidth=0.5)\n",
    "# guinea_adm2_gdf.head()"
   ]
  },
  {
   "cell_type": "code",
   "execution_count": null,
   "metadata": {},
   "outputs": [],
   "source": [
    "worldpop_cons_folder_path=path/\"Data\"/ \"WorldPop_Constrained_1km_UNadj/ Nigeria\"\n",
    "worldpop_uncons_folder_path=path/\"Data\"/ \"WorldPop_Unconstrained_1km_UNadj\"\n",
    "facebook_file_path=path/\"Data\" / \"Meta_HRSL\" / \"nga_children_under_five_2020_geotiff_Nigeria\"\n",
    "landscan_file_path=path/\"Data\"/ \"Landscan\"/ \"landscan-global-2021.tif\""
   ]
  },
  {
   "cell_type": "code",
   "execution_count": null,
   "metadata": {},
   "outputs": [],
   "source": [
    "nigeria_adm2_summary_gdf = create_combined_zonal_sums_for_all_sources(\n",
    "    gdf=nigeria_adm2_gdf,\n",
    "    worldpop_cons_folder_path=worldpop_cons_folder_path,\n",
    "    worldpop_uncons_folder_path=worldpop_uncons_folder_path,\n",
    "    facebook_file_path=facebook_file_path,\n",
    "    landscan_file_path=landscan_file_path,\n",
    "    shape_cols_to_keep=[\"admin1Name\", \"admin2Name\"],\n",
    "    save_csv=True,\n",
    "    output_csv_name=\"nigeria_all_adm2.csv\"\n",
    ")"
   ]
  },
  {
   "cell_type": "code",
   "execution_count": null,
   "metadata": {},
   "outputs": [],
   "source": [
    "# Plot map coloured by population summaries at the admin level of the shapefile.\n",
    "# Note: for larger admin levels see next cell.\n",
    "# guinea_pops_gdf.plot(column=\"landscan_total_u5\", legend=True)"
   ]
  },
  {
   "attachments": {},
   "cell_type": "markdown",
   "metadata": {},
   "source": [
    "Note: We can also do this for higher admin levels, but this is more computationally expensive than simply doing a pivot table summary of the previously generated Admin level 2 data on the Admin level 1 column.\n",
    "\n",
    "Directly doing the summary at higher levels does allow us to plot maps at the higher admin levels easier than going the pivot table route, however."
   ]
  },
  {
   "cell_type": "code",
   "execution_count": null,
   "metadata": {},
   "outputs": [],
   "source": [
    "# guinea_adm1_gdf = gpd.read_file(data_path / \"boundaries\" / \"gin_admbnda_ocha_fis\" / \"gin_admbnda_adm1_ocha.shp\")\n",
    "\n",
    "# guinea_adm1_summary_gdf = create_combined_zonal_sums_for_all_sources(\n",
    "#     gdf=guinea_adm1_gdf,\n",
    "#     worldpop_folder_path=worldpop_folder_path,\n",
    "#     facebook_file_path=facebook_file_path,\n",
    "#     landscan_file_path=landscan_file_path,\n",
    "#     shape_cols_to_keep=[\"admin1Name\"],\n",
    "#     save_csv=True,\n",
    "#     output_csv_name=\"guinea_all_adm1.csv\"\n",
    "# )"
   ]
  },
  {
   "cell_type": "code",
   "execution_count": 35,
   "metadata": {},
   "outputs": [],
   "source": [
    "# %%"
   ]
  },
  {
   "attachments": {},
   "cell_type": "markdown",
   "metadata": {},
   "source": [
    "# Basic Demo\n",
    "\n",
    "*Case of Malaria Consortium in Nigeria using phase 2 estimates*"
   ]
  },
  {
   "attachments": {},
   "cell_type": "markdown",
   "metadata": {},
   "source": [
    "### 1. Load admin gdf\n"
   ]
  },
  {
   "attachments": {},
   "cell_type": "markdown",
   "metadata": {},
   "source": [
    "shapefile_path = data_path / \"Administrative Boundaries\" / \"nga_adm_osgof_20190417_nigeria\" / \"nga_admbnda_adm2_osgof_20190417.shp\"\n",
    "admin_gdf = gpd.read_file(shapefile_path)"
   ]
  },
  {
   "attachments": {},
   "cell_type": "markdown",
   "metadata": {},
   "source": [
    "admin_gdf"
   ]
  },
  {
   "attachments": {},
   "cell_type": "markdown",
   "metadata": {},
   "source": [
    "admin_gdf.plot(color=\"white\", edgecolor=\"gray\", linewidth=0.5)"
   ]
  },
  {
   "attachments": {},
   "cell_type": "markdown",
   "metadata": {},
   "source": [
    "### 2. Load population density data"
   ]
  },
  {
   "attachments": {},
   "cell_type": "markdown",
   "metadata": {},
   "source": [
    "tif_file_path = path / \"data\" / \"fb\" / \"population_phl_2018-10-01.tif\"\n",
    "pop_density_xarray = rxr.open_rasterio(tif_file_path, masked=True)"
   ]
  },
  {
   "attachments": {},
   "cell_type": "markdown",
   "metadata": {},
   "source": [
    "# pop_density_xarray.plot()"
   ]
  },
  {
   "attachments": {},
   "cell_type": "markdown",
   "metadata": {},
   "source": [
    "### 3. Sum population density per admin shape"
   ]
  },
  {
   "cell_type": "code",
   "execution_count": null,
   "metadata": {},
   "outputs": [],
   "source": [
    "zonal_stats_df"
   ]
  },
  {
   "attachments": {},
   "cell_type": "markdown",
   "metadata": {},
   "source": [
    "### 4. Merge results with initial admin shapes"
   ]
  },
  {
   "attachments": {},
   "cell_type": "markdown",
   "metadata": {},
   "source": [
    "combined_pops_gdf = pd.concat([admin_gdf, zonal_stats_df], axis=1)"
   ]
  },
  {
   "attachments": {},
   "cell_type": "markdown",
   "metadata": {},
   "source": [
    "combined_pops_gdf"
   ]
  },
  {
   "attachments": {},
   "cell_type": "markdown",
   "metadata": {},
   "source": [
    "## Detailed general example: Philippines \n",
    "(Single `.tif` density file)"
   ]
  },
  {
   "attachments": {},
   "cell_type": "markdown",
   "metadata": {},
   "source": [
    "# load shape data\n",
    "shapefile_path = data_path / \"boundaries\" / \"phl_adminboundaries_candidate_adm3\" / \"phl_admbnda_adm3_psa_namria_20200529.shp\"\n",
    "philippines_adm3_gdf = gpd.read_file(shapefile_path)\n",
    "print(\"Data columns in shapefile:\\n\", list(philippines_adm3_gdf.columns))"
   ]
  },
  {
   "attachments": {},
   "cell_type": "markdown",
   "metadata": {},
   "source": [
    "# plot shapes\n",
    "philippines_adm3_gdf.plot(color=\"white\", edgecolor=\"gray\", linewidth=0.5)"
   ]
  },
  {
   "attachments": {},
   "cell_type": "markdown",
   "metadata": {},
   "source": [
    "# Based on the above list, set column names of shape attributes to keep in the final output\n",
    "shape_cols_to_keep = [\"ADM1_EN\", \"ADM2_EN\", \"ADM3_EN\"]"
   ]
  },
  {
   "attachments": {},
   "cell_type": "markdown",
   "metadata": {},
   "source": [
    "tif_file_path = path / \"data\" / \"fb\" / \"population_phl_2018-10-01.tif\"\n",
    "output_data_filename = \"philippines_adm3_fb.csv\""
   ]
  },
  {
   "attachments": {},
   "cell_type": "markdown",
   "metadata": {},
   "source": [
    "# run the summing function (takes around 2 minutes to run)\n",
    "philippines_adm3_populations = load_and_sum_tif(\n",
    "    gdf=philippines_adm3_gdf,\n",
    "    tif_file_path=tif_file_path,\n",
    "    rounding=True,\n",
    "    )"
   ]
  },
  {
   "attachments": {},
   "cell_type": "markdown",
   "metadata": {},
   "source": [
    "# combine with shape attribute data and save to file\n",
    "philippines_adm3_populations_with_attributes = combine_dataframes(\n",
    "    gdf=philippines_adm3_gdf,\n",
    "    df_list=[philippines_adm3_populations],\n",
    "    shape_cols_to_keep=shape_cols_to_keep,\n",
    "    save_csv=True,\n",
    "    output_csv_name=output_data_filename\n",
    "    )"
   ]
  },
  {
   "attachments": {},
   "cell_type": "markdown",
   "metadata": {},
   "source": [
    "# Plot map coloured by population summaries at the admin level of the shapefile.\n",
    "philippines_adm3_populations_with_attributes.plot(column=\"sum\", legend=True)"
   ]
  },
  {
   "attachments": {},
   "cell_type": "markdown",
   "metadata": {},
   "source": [
    "zonal_stats_df = zonal_stats_extended(\n",
    "    gdf=admin_gdf,\n",
    "    xds=pop_density_xarray,\n",
    "    prefix=\"pop_\",\n",
    "    stats=\"sum\"\n",
    ")"
   ]
  },
  {
   "attachments": {},
   "cell_type": "markdown",
   "metadata": {},
   "source": [
    "### Kenya"
   ]
  },
  {
   "attachments": {},
   "cell_type": "markdown",
   "metadata": {},
   "source": [
    "kenya_adm2_gdf = gpd.read_file(data_path / \"boundaries\" / \"ken_adm_iebc_20191031_shp\" / \"ken_admbnda_adm2_iebc_20191031.shp\")"
   ]
  },
  {
   "attachments": {},
   "cell_type": "markdown",
   "metadata": {},
   "source": [
    "worldpop_folder_path = path/\"data\"/\"worldpop_constrained\"/\"kenya\"\n",
    "facebook_file_path = path/\"data\"/\"fb\"/\"ken_children_under_five_2020.tif\"\n",
    "landscan_file_path = path/\"data\"/\"landscan\"/\"landscan-global-2021-assets\"/\"landscan-global-2021.tif\""
   ]
  },
  {
   "attachments": {},
   "cell_type": "markdown",
   "metadata": {},
   "source": [
    "kenya_adm2_summary_gdf = create_combined_zonal_sums_for_all_sources(\n",
    "    gdf=kenya_adm2_gdf,\n",
    "    worldpop_folder_path=worldpop_folder_path,\n",
    "    facebook_file_path=facebook_file_path,\n",
    "    landscan_file_path=landscan_file_path,\n",
    "    shape_cols_to_keep=[\"ADM1_EN\", \"ADM2_EN\"],\n",
    "    save_csv=True,\n",
    "    output_csv_name=\"kenya_all_adm2.csv\"\n",
    ")"
   ]
  },
  {
   "attachments": {},
   "cell_type": "markdown",
   "metadata": {},
   "source": [
    "### Alternative Kenya data"
   ]
  },
  {
   "cell_type": "code",
   "execution_count": null,
   "metadata": {},
   "outputs": [],
   "source": [
    "new_worldpop_folder_path = path/\"data\"/\"worldpop_constrained\"/\"kenya\" / \"KEN_SAP_1km_2020\""
   ]
  },
  {
   "attachments": {},
   "cell_type": "markdown",
   "metadata": {},
   "source": [
    "new_kenya_adm2_summary_gdf = load_and_sum_multiple_tifs(\n",
    "    gdf=kenya_adm2_gdf,\n",
    "    tif_folder_path=new_worldpop_folder_path,\n",
    "    global_prefix=\"worldpop_\",\n",
    "    rounding=True,\n",
    "    total_column=True,\n",
    "    )"
   ]
  },
  {
   "attachments": {},
   "cell_type": "markdown",
   "metadata": {},
   "source": [
    "combined_pops_gdf = combine_dataframes(\n",
    "    gdf=kenya_adm2_gdf, \n",
    "    df_list=[new_kenya_adm2_summary_gdf], \n",
    "    shape_cols_to_keep=[\"ADM1_EN\", \"ADM2_EN\"], \n",
    "    save_csv=True,\n",
    "    output_csv_name=\"kenya_all_adm2_new.csv\"\n",
    "    )"
   ]
  },
  {
   "attachments": {},
   "cell_type": "markdown",
   "metadata": {},
   "source": [
    "### Burkina Faso"
   ]
  },
  {
   "attachments": {},
   "cell_type": "markdown",
   "metadata": {},
   "source": [
    "bfa_adm3_gdf = gpd.read_file(data_path / \"boundaries\" / \"bfa_adm_igb_20200323_shp\" / \"bfa_admbnda_adm3_igb_20200323.shp\")"
   ]
  },
  {
   "attachments": {},
   "cell_type": "markdown",
   "metadata": {},
   "source": [
    "worldpop_folder_path = path/\"data\"/\"worldpop_constrained\"/\"burkina_faso\"\n",
    "facebook_file_path = path/\"data\"/\"fb\"/\"bfa_children_under_five_2020.tif\"\n",
    "landscan_file_path = path/\"data\"/\"landscan\"/\"landscan-global-2021-assets\"/\"landscan-global-2021.tif\""
   ]
  },
  {
   "attachments": {},
   "cell_type": "markdown",
   "metadata": {},
   "source": [
    "bfa_adm3_summary_gdf = create_combined_zonal_sums_for_all_sources(\n",
    "    gdf=bfa_adm3_gdf,\n",
    "    worldpop_folder_path=worldpop_folder_path,\n",
    "    facebook_file_path=facebook_file_path,\n",
    "    landscan_file_path=landscan_file_path,\n",
    "    shape_cols_to_keep=[\"ADM1_FR\", \"ADM2_FR\", \"ADM3_FR\"],\n",
    "    save_csv=True,\n",
    "    output_csv_name=\"burkina_faso_all_adm3.csv\"\n",
    ")"
   ]
  },
  {
   "attachments": {},
   "cell_type": "markdown",
   "metadata": {},
   "source": [
    "### Nigeria"
   ]
  },
  {
   "attachments": {},
   "cell_type": "markdown",
   "metadata": {},
   "source": [
    "nga_adm2_gdf = gpd.read_file(data_path / \"boundaries\" / \"nga_adm_osgof_20190417\" / \"nga_admbnda_adm2_osgof_20190417.shp\")"
   ]
  },
  {
   "attachments": {},
   "cell_type": "markdown",
   "metadata": {},
   "source": [
    "worldpop_folder_path = path/\"data\"/\"worldpop_constrained\"/\"nigeria\"\n",
    "facebook_file_path = path/\"data\"/\"fb\"/\"nga_children_under_five_2020.tif\"\n",
    "landscan_file_path = path/\"data\"/\"landscan\"/\"landscan-global-2021-assets\"/\"landscan-global-2021.tif\""
   ]
  },
  {
   "attachments": {},
   "cell_type": "markdown",
   "metadata": {},
   "source": [
    "nga_adm2_summary_gdf = create_combined_zonal_sums_for_all_sources(\n",
    "    gdf=nga_adm2_gdf,\n",
    "    worldpop_folder_path=worldpop_folder_path,\n",
    "    facebook_file_path=facebook_file_path,\n",
    "    landscan_file_path=landscan_file_path,\n",
    "    shape_cols_to_keep=[\"ADM1_EN\", \"ADM2_EN\"],\n",
    "    save_csv=True,\n",
    "    output_csv_name=\"nigeria_all_adm2.csv\"\n",
    ")"
   ]
  }
 ],
 "metadata": {
  "kernelspec": {
   "display_name": "Python 3.9.12 ('base')",
   "language": "python",
   "name": "python3"
  },
  "language_info": {
   "codemirror_mode": {
    "name": "ipython",
    "version": 3
   },
   "file_extension": ".py",
   "mimetype": "text/x-python",
   "name": "python",
   "nbconvert_exporter": "python",
   "pygments_lexer": "ipython3",
   "version": "3.11.3"
  },
  "orig_nbformat": 4,
  "vscode": {
   "interpreter": {
    "hash": "3d597f4c481aa0f25dceb95d2a0067e73c0966dcbd003d741d821a7208527ecf"
   }
  }
 },
 "nbformat": 4,
 "nbformat_minor": 2
}

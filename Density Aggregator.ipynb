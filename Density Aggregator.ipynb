{
 "cells": [
  {
   "attachments": {},
   "cell_type": "markdown",
   "metadata": {},
   "source": [
    "# Summarize population density maps (`.tif`) by shapefiles (`.shp`)\n",
    "\n",
    "### What does this do\n",
    "\n",
    "This notebook allows you to:\n",
    "1. Load a `.tif` population density file and a `.shp` shapefile\n",
    "\n",
    "2. Sum the values of the pixels in the density map inside each given shape, resulting in a table of shape attributes (e.g. admin level names) and the respective population\n",
    "\n",
    "3. Save the resulting table in a `.csv` file\n",
    "\n",
    "### How to run\n",
    "1. Install Python and Jupyter (recommended distribution: the latest `miniconda`)\n",
    "\n",
    "2. Use `pip` to install the following packages if not already installed:\n",
    "    - `rasterstats`\n",
    "    \n",
    "    - `rioxarray`\n",
    "\n",
    "    - `pandas`\n",
    "\n",
    "    - `geopandas`\n",
    "    \n",
    "    - `matplotlib`\n",
    "\n",
    "\n",
    "3. Download your chosen population density map and shapefile and set the data paths here correctly\n",
    "\n",
    "4. Run the `Setup` and `Functions` section and the relevant country and/or copy a country example cell and modify it to match your density map and shapefile."
   ]
  },
  {
   "attachments": {},
   "cell_type": "markdown",
   "metadata": {},
   "source": [
    "# Setup"
   ]
  },
  {
   "cell_type": "code",
   "execution_count": null,
   "metadata": {},
   "outputs": [],
   "source": [
    "from pathlib import Path\n",
    "import os\n",
    "\n",
    "import rioxarray as rxr\n",
    "import numpy as np\n",
    "import pandas as pd\n",
    "import geopandas as gpd\n",
    "import matplotlib.pyplot as plt"
   ]
  },
  {
   "cell_type": "code",
   "execution_count": null,
   "metadata": {},
   "outputs": [],
   "source": [
    "from rasterstats import zonal_stats\n",
    "\n",
    "## NECESSARY FUNCTION TO EXTEND `zonal_stats` TO WORK WITH XARRAYS\n",
    "def zonal_stats_extended(gdf, xds, prefix=None, stats=\"sum\", output_type=\"dataframe\"):\n",
    "    \"\"\"\n",
    "    Extends rasterstarts' zonal_stats to easily input xarrays and output a Pandas DataFrame.\n",
    "\n",
    "    Default operation is \"sum\".\n",
    "\n",
    "    \"\"\"\n",
    "    raster = xds.to_numpy()[0]\n",
    "    affine = xds.rio.transform()\n",
    "    nodata_value = xds.rio.nodata\n",
    "\n",
    "    zs = zonal_stats(\n",
    "        gdf,\n",
    "        raster,\n",
    "        affine=affine,\n",
    "        nodata=nodata_value,\n",
    "        stats=stats,\n",
    "        prefix=prefix,\n",
    "    )\n",
    "\n",
    "    if output_type == \"dataframe\":\n",
    "        return pd.DataFrame(zs, index=gdf.index)\n",
    "    else:\n",
    "        return zs"
   ]
  },
  {
   "cell_type": "code",
   "execution_count": null,
   "metadata": {},
   "outputs": [],
   "source": [
    "# Set paths to data folders\n",
    "path = Path.cwd()\n",
    "data_path = path / \"Data\"\n",
    "output_path = path / \"Output_Data\""
   ]
  },
  {
   "attachments": {},
   "cell_type": "markdown",
   "metadata": {},
   "source": [
    "# Full run"
   ]
  },
  {
   "attachments": {},
   "cell_type": "markdown",
   "metadata": {},
   "source": [
    "## Functions"
   ]
  },
  {
   "cell_type": "code",
   "execution_count": null,
   "metadata": {},
   "outputs": [],
   "source": [
    "def load_tif(path):\n",
    "    \"\"\"load raster population density data (.tif) with np.nan as nodata value\"\"\"\n",
    "\n",
    "    return rxr.open_rasterio(path, masked=True)"
   ]
  },
  {
   "cell_type": "code",
   "execution_count": null,
   "metadata": {},
   "outputs": [],
   "source": [
    "\n",
    "def load_and_sum_tif(tif_file_path, gdf, prefix=None, rounding=True):\n",
    "    \"\"\"Load a pop density map from file and create zonal sums using shapes from the given gdf.\"\"\"\n",
    "\n",
    "    xds = load_tif(tif_file_path)\n",
    "\n",
    "    zonal_stats_df = zonal_stats_extended(\n",
    "        gdf=gdf,\n",
    "        xds=xds,\n",
    "        prefix=prefix,\n",
    "        stats=\"sum\"\n",
    "    )\n",
    "\n",
    "    if rounding:\n",
    "        zonal_stats_df = zonal_stats_df.round().fillna(0).astype(int)\n",
    "\n",
    "    return zonal_stats_df"
   ]
  },
  {
   "cell_type": "code",
   "execution_count": null,
   "metadata": {},
   "outputs": [],
   "source": [
    "def load_and_sum_multiple_tifs(\n",
    "    gdf,\n",
    "    tif_folder_path=None,\n",
    "    tif_file_paths=None,\n",
    "    global_prefix=None, \n",
    "    file_prefix_list=None,\n",
    "    rounding=True, \n",
    "    total_column=True\n",
    "    ):\n",
    "    \"\"\"\n",
    "\n",
    "    Primarily for WorldPop data since multiple files are provided, each for a different age/gender group.\n",
    "    \n",
    "    Load each density map file (either from a given folder or a list of file paths) and \n",
    "    get zonal sums of each based on a GeoDataFrame of shapes. Combine the results into \n",
    "    a single pandas dataframe and add a totals column if required.\n",
    "    \n",
    "    Parameters\n",
    "    ----------\n",
    "    gdf : geopandas.GeoDataFrame\n",
    "        GeoDataFrame with shapes to summarize over.\n",
    "    tif_folder_path : pathlib.Path, optional\n",
    "        Path to folder with tif files to load. If provided, all tif files in the folder will be loaded and the \n",
    "        tif_file_paths parameter will be ignored.\n",
    "    tif_file_paths : list, required if tif_folder_path is None\n",
    "        List of paths to tif files.\n",
    "    global_prefix : str, optional\n",
    "        Prefix to add to all column names, by default None\n",
    "    file_prefix_list : list, optional\n",
    "        List of prefixes to add to each column name, by default None. If provided, must be the same length as the\n",
    "        tif_file_paths list. If not provided, the file name will be used as the prefix.\n",
    "    sum_rounding : bool, optional\n",
    "        Whether to round sum values, by default True\n",
    "    total_column : bool, optional\n",
    "        Add a column with the total sum of all columns, by default True\n",
    "        \n",
    "    Returns\n",
    "    -------\n",
    "    pd.DataFrame\n",
    "    \n",
    "    \"\"\"\n",
    "\n",
    "    if tif_folder_path:\n",
    "        tif_file_paths = list(tif_folder_path.glob(\"*.tif\"))\n",
    "\n",
    "    if not file_prefix_list:\n",
    "        file_prefix_list = [f.stem for f in tif_file_paths]\n",
    "\n",
    "    zonal_stats_df_list = []\n",
    "\n",
    "    for tif_file_path, file_prefix in zip(tif_file_paths, file_prefix_list):\n",
    "        prefix = global_prefix+file_prefix+\"_\"\n",
    "        zonal_stats_df = load_and_sum_tif(tif_file_path, gdf, prefix, rounding)\n",
    "        zonal_stats_df_list.append(zonal_stats_df)\n",
    "\n",
    "    zonal_stats_df_all = pd.concat(zonal_stats_df_list, axis=1)\n",
    "\n",
    "\n",
    "    if total_column:\n",
    "        zonal_stats_df_all[global_prefix+\"sum_total\"] = zonal_stats_df_all.sum(axis=1)\n",
    "\n",
    "    return zonal_stats_df_all"
   ]
  },
  {
   "cell_type": "code",
   "execution_count": null,
   "metadata": {},
   "outputs": [],
   "source": [
    "def combine_dataframes(\n",
    "    gdf, \n",
    "    df_list, \n",
    "    shape_cols_to_keep, \n",
    "    save_csv, \n",
    "    output_csv_name=\"zonal_sums.csv\"\n",
    "    ):\n",
    "    \"\"\"Combine a list of dataframes with zonal sums with a GeoDataFrame of shapes and save result to file.\"\"\"\n",
    "    \n",
    "    # combine all population dataframes\n",
    "    pops_df = pd.concat(df_list, axis=1)\n",
    "\n",
    "    # Combine with shape data\n",
    "    gdf = gdf[shape_cols_to_keep+[\"geometry\"]]\n",
    "    combined_pops_gdf = pd.concat([gdf, pops_df], axis=1)\n",
    "\n",
    "    # sort by area names\n",
    "    combined_pops_gdf.sort_values(by=shape_cols_to_keep, inplace=True)\n",
    "\n",
    "    ## save\n",
    "    if save_csv:\n",
    "        # save\n",
    "        os.makedirs(output_path, exist_ok=True)\n",
    "        combined_pops_gdf.drop(columns=\"geometry\", axis=1).to_csv(output_path / output_csv_name, index=False,encoding  =  \"utf-8\" )\n",
    "\n",
    "    return combined_pops_gdf"
   ]
  },
  {
   "cell_type": "code",
   "execution_count": null,
   "metadata": {},
   "outputs": [],
   "source": [
    "def df_w_latlons_to_gdf(\n",
    "    df,\n",
    "    lat_name = \"Lat\",\n",
    "    lon_name = \"Lon\",\n",
    "    crs=\"EPSG:4326\",\n",
    "):\n",
    "    \"\"\"\n",
    "    Convert DataFrame to GeoDataFrame by creating geometries from lat-lon columns.\n",
    "\n",
    "    Parameters\n",
    "    ----------\n",
    "    df : The DataFrame to convert.\n",
    "    lat_name, lon_name : The names of the columns containing the latitude and longitude values.\n",
    "        Default is 'Lat' and 'Lon'.\n",
    "    crs : The coordinate reference system of the lat-lon columns.\n",
    "    \"\"\"\n",
    "    latlon_point_geoms = gpd.points_from_xy(x=df[lon_name], y=df[lat_name])\n",
    "    gdf = gpd.GeoDataFrame(df.copy(), geometry=latlon_point_geoms, crs=crs)\n",
    "    return gdf"
   ]
  },
  {
   "attachments": {},
   "cell_type": "markdown",
   "metadata": {},
   "source": [
    "## Country Specific WorldPop/FB/WOPR summaries\n",
    "(Summarising multiple `.tif` density files and combining the results)"
   ]
  },
  {
   "attachments": {},
   "cell_type": "markdown",
   "metadata": {},
   "source": [
    "### Example: Nigeria"
   ]
  },
  {
   "attachments": {},
   "cell_type": "markdown",
   "metadata": {},
   "source": [
    "#### Loading the shape data"
   ]
  },
  {
   "cell_type": "code",
   "execution_count": null,
   "metadata": {},
   "outputs": [],
   "source": [
    "nigeria_adm2_gdf = gpd.read_file(data_path / \"Administrative Boundaries\" / \"nga_adm_osgof_20190417_nigeria\" / \"nga_admbnda_adm2_osgof_20190417.shp\")\n",
    "nigeria_adm2_gdf.head()"
   ]
  },
  {
   "attachments": {},
   "cell_type": "markdown",
   "metadata": {},
   "source": [
    "#### Subset the data to only include required states"
   ]
  },
  {
   "cell_type": "code",
   "execution_count": null,
   "metadata": {},
   "outputs": [],
   "source": [
    "nigeria_mc_states=[\"Bauchi\", \"Borno\", \"Kebbi\", \"Kogi\", \"Nasarawa\", \"Plateau\", \"Sokoto\"]\n",
    "nigeria_adm2_gdf_mc_chosen_adm1 = nigeria_adm2_gdf[nigeria_adm2_gdf[\"ADM1_EN\"].isin(nigeria_mc_states)]"
   ]
  },
  {
   "attachments": {},
   "cell_type": "markdown",
   "metadata": {},
   "source": [
    "#### Load the population density files"
   ]
  },
  {
   "cell_type": "code",
   "execution_count": null,
   "metadata": {},
   "outputs": [],
   "source": [
    "worldpop_cons_folder_path= path / \"Data\" / \"WorldPop_Constrained_1km_UNadj\"/\"Nigeria\"\n",
    "worldpop_wopr_file_path= path/\"Data\"/ \"WorldPop_WOPR\" / \"Nigeria\" /\"Data\"/ \"NGA_population_v2_0_agesex_under5.tif\"\n",
    "facebook_file_path= path/\"Data\" / \"Meta_HRSL\" / \"nga_children_under_five_2020_geotiff_Nigeria\" / \"nga_children_under_five_2020.tif\"\n",
    "facebook_csv_file_path= path/\"Data\" / \"Meta_HRSL\" / \"nga_children_under_five_2020_geotiff_Nigeria\" / \"nga_children_under_five_2020.csv\""
   ]
  },
  {
   "cell_type": "code",
   "execution_count": null,
   "metadata": {},
   "outputs": [],
   "source": [
    "# WorldPop Top-down Constrained estimates\n",
    "worldpop_cons_pops_df = load_and_sum_multiple_tifs(\n",
    "    gdf=nigeria_adm2_gdf_mc_chosen_adm1,\n",
    "    tif_folder_path=worldpop_cons_folder_path,\n",
    "    global_prefix=\"worldpop_cons_u5_\", \n",
    "    rounding=True, \n",
    "    total_column=True\n",
    "    )\n",
    "\n",
    "worldpop_cons_pops_df"
   ]
  },
  {
   "cell_type": "code",
   "execution_count": null,
   "metadata": {},
   "outputs": [],
   "source": [
    "# WorldPop Bottom-up estimates\n",
    "worldpop_wopr_pops_df = load_and_sum_tif(\n",
    "    worldpop_wopr_file_path,\n",
    "    nigeria_adm2_gdf_mc_chosen_adm1,\n",
    "    prefix=\"worldpop_wopr_u5_\",\n",
    "    rounding=True\n",
    ")\n",
    "\n",
    "\n",
    "worldpop_wopr_pops_df"
   ]
  },
  {
   "cell_type": "code",
   "execution_count": null,
   "metadata": {},
   "outputs": [],
   "source": [
    "# Facebook\n",
    "facebook_pops_df = load_and_sum_tif(\n",
    "    facebook_file_path,\n",
    "    nigeria_adm2_gdf_mc_chosen_adm1,\n",
    "    prefix=\"facebook_u5_\",\n",
    "    rounding=True\n",
    ")\n",
    "facebook_pops_df"
   ]
  },
  {
   "cell_type": "code",
   "execution_count": null,
   "metadata": {},
   "outputs": [],
   "source": [
    "# If facebook .tif files don't work, you can use the csv files\n",
    "\n",
    "# facebook_csv_df = pd.read_csv(facebook_csv_file_path)\n",
    "# facebook_csv_gdf = df_w_latlons_to_gdf(facebook_csv_df, lat_name = \"latitude\", lon_name = \"longitude\")  \n",
    "# facebook_csv_gdf_w_adm = facebook_csv_gdf.sjoin(nigeria_adm2_gdf_mc_chosen_adm1)\n",
    "# facebook_pops_df = facebook_csv_gdf_w_adm.pivot_table(values=\"nga_children_under_five_2020\", index=[\"ADM1_EN\",\"ADM2_EN\"], aggfunc=np.sum).reset_index()\n",
    "# pivot_pop_df"
   ]
  },
  {
   "attachments": {},
   "cell_type": "markdown",
   "metadata": {},
   "source": [
    "##### Discounting for months not covered assuming growth is linear\n"
   ]
  },
  {
   "cell_type": "code",
   "execution_count": null,
   "metadata": {},
   "outputs": [],
   "source": [
    "worldpop_cons_pops_df[\"worldpop_cons_3-59_months\"] = worldpop_cons_pops_df[\"worldpop_cons_u5_sum_total\"] * (57/60)\n",
    "worldpop_wopr_pops_df[\"worldpop_wopr_3-59_months\"] = worldpop_wopr_pops_df[\"worldpop_wopr_u5_sum\"] * (57/60)\n",
    "facebook_pops_df[\"facebook_3-59_months\"] = facebook_pops_df[\"facebook_u5_sum\"] * (57/60)"
   ]
  },
  {
   "cell_type": "code",
   "execution_count": null,
   "metadata": {},
   "outputs": [],
   "source": [
    "df_list = [worldpop_cons_pops_df, worldpop_wopr_pops_df,facebook_pops_df]\n",
    "\n",
    "\n",
    "combined_pops_gdf = combine_dataframes(\n",
    "    nigeria_adm2_gdf_mc_chosen_adm1, \n",
    "    df_list, \n",
    "    shape_cols_to_keep=[\"ADM1_EN\",\"ADM2_EN\"], \n",
    "    save_csv=True, \n",
    "    output_csv_name=\"mc_nigeria_output.csv\"\n",
    "    )"
   ]
  },
  {
   "cell_type": "code",
   "execution_count": null,
   "metadata": {},
   "outputs": [],
   "source": [
    "combined_pops_gdf.plot(color=\"white\", edgecolor=\"gray\", linewidth=0.5)"
   ]
  }
 ],
 "metadata": {
  "kernelspec": {
   "display_name": "Python 3.9.12 ('base')",
   "language": "python",
   "name": "python3"
  },
  "language_info": {
   "codemirror_mode": {
    "name": "ipython",
    "version": 3
   },
   "file_extension": ".py",
   "mimetype": "text/x-python",
   "name": "python",
   "nbconvert_exporter": "python",
   "pygments_lexer": "ipython3",
   "version": "3.11.3"
  },
  "orig_nbformat": 4,
  "vscode": {
   "interpreter": {
    "hash": "3d597f4c481aa0f25dceb95d2a0067e73c0966dcbd003d741d821a7208527ecf"
   }
  }
 },
 "nbformat": 4,
 "nbformat_minor": 2
}

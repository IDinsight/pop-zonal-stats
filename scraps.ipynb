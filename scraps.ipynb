{
 "cells": [
  {
   "cell_type": "code",
   "execution_count": null,
   "metadata": {},
   "outputs": [],
   "source": [
    "import contextily as ctx\n",
    "\n",
    "ax = gdf.sample(5000, random_state=0).plot(column='population', alpha=0.5, figsize=(10, 10))\n",
    "\n",
    "ctx.add_basemap(\n",
    "    ax,\n",
    "    # CRS definition. Without the line below, the map is misaligned\n",
    "    crs=gdf.crs.to_string(),\n",
    ")"
   ]
  },
  {
   "cell_type": "code",
   "execution_count": null,
   "metadata": {},
   "outputs": [],
   "source": [
    "\n",
    "xds = rxr.open_rasterio(path / \"data\" / \"worldpop_constrained\" / \"guinea\" / \"gin_f_0_2020_constrained_UNadj.tif\")\n",
    "xds_df = xds[0].to_pandas()\n",
    "plt.imshow(xds_df)"
   ]
  }
 ],
 "metadata": {
  "kernelspec": {
   "display_name": "Python 3.9.12 ('base')",
   "language": "python",
   "name": "python3"
  },
  "language_info": {
   "name": "python",
   "version": "3.10.9"
  },
  "orig_nbformat": 4,
  "vscode": {
   "interpreter": {
    "hash": "3d597f4c481aa0f25dceb95d2a0067e73c0966dcbd003d741d821a7208527ecf"
   }
  }
 },
 "nbformat": 4,
 "nbformat_minor": 2
}
